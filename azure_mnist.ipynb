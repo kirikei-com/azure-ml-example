{
 "cells": [
  {
   "cell_type": "code",
   "execution_count": 2,
   "metadata": {},
   "outputs": [],
   "source": [
    "import azureml\n",
    "from keras.models import Sequential\n",
    "from keras.layers import Dense"
   ]
  },
  {
   "cell_type": "code",
   "execution_count": null,
   "metadata": {},
   "outputs": [],
   "source": [
    "! mkdir ./aml_config"
   ]
  },
  {
   "cell_type": "code",
   "execution_count": null,
   "metadata": {},
   "outputs": [],
   "source": [
    "%%writefile ~/aml_config/config.json\n",
    "{\n",
    "    \"subscription_id\": \"XXXXX-XXXXXX-XXXXX-XXXXX\",\n",
    "    \"resource_group\": \"<リソースグループ>\",\n",
    "    \"workspace_name\": \"<　ワークスペースの名前>\"\n",
    "}"
   ]
  },
  {
   "cell_type": "code",
   "execution_count": null,
   "metadata": {},
   "outputs": [],
   "source": [
    "from azureml.core import Workspace\n",
    "ws = Workspace.from_config()"
   ]
  },
  {
   "cell_type": "code",
   "execution_count": 4,
   "metadata": {},
   "outputs": [],
   "source": [
    "from azureml.core import Experiment"
   ]
  },
  {
   "cell_type": "markdown",
   "metadata": {},
   "source": [
    "## お試し"
   ]
  },
  {
   "cell_type": "code",
   "execution_count": 5,
   "metadata": {},
   "outputs": [],
   "source": [
    "\n",
    "# Experimentの作成\n",
    "# この時点でworkspace上のExperimentsにmyexpの項目ができる\n",
    "exp = Experiment(workspace=ws, name='myexp')\n",
    "\n",
    "# Runを作成，実行\n",
    "# この時点でworkspace上のExperiments->myexp内にrun:1の項目ができる\n",
    "run = exp.start_logging()\n",
    "\n",
    "# Runにログを上げてみる\n",
    "# これによりmyexp->run:1内のTracked Metricsに'my magic number': 42が付与される\n",
    "run.log('my magic number', 42)\n",
    "\n",
    "# listをあげる (Fibonacci numbers)\n",
    "# グラフとなって表示される\n",
    "run.log_list('my list', [1, 1, 2, 3, 5, 8, 13, 21, 34, 55]) \n",
    "\n",
    "# 同じkeyのログを複数回上げてもグラフとなって表示される\n",
    "run.log('next magic number', 42)\n",
    "run.log('next magic number', 43)\n",
    "\n",
    "# finish the run\n",
    "# statusがcompleteとなる\n",
    "run.complete()"
   ]
  },
  {
   "cell_type": "markdown",
   "metadata": {},
   "source": [
    "## MNIST + Keras\n",
    "* ハイパーパラメータを保存\n",
    "* 実行結果のhistoryをグラフに保存\n",
    "* 実行結果のモデルをファイルとして保存"
   ]
  },
  {
   "cell_type": "code",
   "execution_count": 17,
   "metadata": {},
   "outputs": [],
   "source": [
    "from keras.datasets import mnist\n",
    "import keras\n",
    "from keras.callbacks import ModelCheckpoint"
   ]
  },
  {
   "cell_type": "markdown",
   "metadata": {},
   "source": [
    "* データ準備"
   ]
  },
  {
   "cell_type": "code",
   "execution_count": 7,
   "metadata": {},
   "outputs": [],
   "source": [
    "(x_train, y_train), (x_test, y_test) = mnist.load_data()\n",
    "x_train = x_train.reshape(60000, 784) \n",
    "x_test = x_test.reshape(10000, 784)\n",
    "x_train = x_train.astype('float32')   \n",
    "x_test = x_test.astype('float32')\n",
    "x_train /= 255                        \n",
    "x_test /= 255"
   ]
  },
  {
   "cell_type": "code",
   "execution_count": 10,
   "metadata": {},
   "outputs": [],
   "source": [
    "num_classes = 10\n",
    "y_train = keras.utils.to_categorical(y_train, num_classes)\n",
    "y_test = keras.utils.to_categorical(y_test, num_classes)"
   ]
  },
  {
   "cell_type": "markdown",
   "metadata": {},
   "source": [
    "* ハイパーパラメータの設定"
   ]
  },
  {
   "cell_type": "code",
   "execution_count": 27,
   "metadata": {},
   "outputs": [],
   "source": [
    "batch_size = 128\n",
    "epochs = 10\n",
    "lr = 0.01\n",
    "optname = 'adam'"
   ]
  },
  {
   "cell_type": "code",
   "execution_count": 30,
   "metadata": {},
   "outputs": [],
   "source": [
    "model = Sequential()\n",
    "model.add(Dense(128, activation='relu', input_shape=(784,)))\n",
    "model.add(Dense(64, activation='relu'))\n",
    "model.add(Dense(10, activation='softmax'))"
   ]
  },
  {
   "cell_type": "code",
   "execution_count": 31,
   "metadata": {},
   "outputs": [],
   "source": [
    "def choice_opt(opt, lr):\n",
    "    if opt == 'sgd':\n",
    "        return keras.optimizers.SGD(lr=lr)\n",
    "    if opt == 'adam':\n",
    "        return keras.optimizers.Adam(lr=lr)\n",
    "    else:\n",
    "        raise ValueError()"
   ]
  },
  {
   "cell_type": "code",
   "execution_count": 32,
   "metadata": {},
   "outputs": [],
   "source": [
    "opt = choice_opt(optname, lr)\n",
    "model.compile(optimizer=opt, loss='categorical_crossentropy', metrics=['acc'])"
   ]
  },
  {
   "cell_type": "code",
   "execution_count": 33,
   "metadata": {},
   "outputs": [
    {
     "name": "stdout",
     "output_type": "stream",
     "text": [
      "Train on 60000 samples, validate on 10000 samples\n",
      "Epoch 1/10\n",
      "60000/60000 [==============================] - 2s 29us/step - loss: 0.2294 - acc: 0.9307 - val_loss: 0.1425 - val_acc: 0.9561\n",
      "Epoch 2/10\n",
      "60000/60000 [==============================] - 1s 23us/step - loss: 0.1189 - acc: 0.9642 - val_loss: 0.1381 - val_acc: 0.9624\n",
      "Epoch 3/10\n",
      "60000/60000 [==============================] - 2s 28us/step - loss: 0.1023 - acc: 0.9691 - val_loss: 0.1379 - val_acc: 0.9628\n",
      "Epoch 4/10\n",
      "60000/60000 [==============================] - 2s 29us/step - loss: 0.0891 - acc: 0.9731 - val_loss: 0.1149 - val_acc: 0.9674\n",
      "Epoch 5/10\n",
      "60000/60000 [==============================] - 2s 29us/step - loss: 0.0830 - acc: 0.9758 - val_loss: 0.1346 - val_acc: 0.9663\n",
      "Epoch 6/10\n",
      "60000/60000 [==============================] - 2s 28us/step - loss: 0.0776 - acc: 0.9768 - val_loss: 0.1352 - val_acc: 0.9688\n",
      "Epoch 7/10\n",
      "60000/60000 [==============================] - 2s 28us/step - loss: 0.0723 - acc: 0.9791 - val_loss: 0.1428 - val_acc: 0.9663\n",
      "Epoch 8/10\n",
      "60000/60000 [==============================] - 1s 25us/step - loss: 0.0738 - acc: 0.9791 - val_loss: 0.1260 - val_acc: 0.9707\n",
      "Epoch 9/10\n",
      "60000/60000 [==============================] - 2s 27us/step - loss: 0.0649 - acc: 0.9813 - val_loss: 0.1402 - val_acc: 0.9680\n",
      "Epoch 10/10\n",
      "60000/60000 [==============================] - 1s 25us/step - loss: 0.0586 - acc: 0.9835 - val_loss: 0.1503 - val_acc: 0.9713\n"
     ]
    }
   ],
   "source": [
    "history = model.fit(\n",
    "    x_train, y_train, validation_data=(x_test, y_test), epochs=epochs, batch_size=batch_size,\n",
    "    callbacks=[ModelCheckpoint('./best_model.h5', monitor='val_loss', save_best_only=True)])"
   ]
  },
  {
   "cell_type": "code",
   "execution_count": null,
   "metadata": {},
   "outputs": [],
   "source": [
    "exp = Experiment(workspace=ws, name='my_mnistexp')\n",
    "run = exp.start_logging()\n",
    "\n",
    "for k, v in history.history.items():\n",
    "    run.log_list(k, v)\n",
    "\n",
    "# ハイパーパラメータの記録\n",
    "run.log('epochs', epochs)\n",
    "run.log('batch_size', batch_size)\n",
    "run.log('opt', optname)\n",
    "run.log('lr', lr)\n",
    "\n",
    "# モデルファイルのアップロード\n",
    "# name: Azure上の保管場所, path_or_stream: ローカルのファイルパス\n",
    "run.upload_file(name='outputs/bast_model.h5', path_or_stream = './best_model.h5') "
   ]
  },
  {
   "cell_type": "code",
   "execution_count": 29,
   "metadata": {},
   "outputs": [],
   "source": [
    "run.complete()"
   ]
  },
  {
   "cell_type": "markdown",
   "metadata": {},
   "source": [
    "# Keras Callback"
   ]
  },
  {
   "cell_type": "code",
   "execution_count": 35,
   "metadata": {},
   "outputs": [],
   "source": [
    "class AzureCallback(keras.callbacks.Callback):\n",
    "    def __init__(self, run):\n",
    "        super().__init__()\n",
    "        self.run = run\n",
    "        \n",
    "    def on_epoch_end(self, epoch, logs=None):\n",
    "        logs = logs or {}\n",
    "        train_loss = logs.get('loss')\n",
    "        val_loss = logs.get('val_loss')\n",
    "        val_acc = logs.get('val_acc')\n",
    "        self.run.log('loss', train_loss)\n",
    "        self.run.log('val_loss', val_loss)\n",
    "        self.run.log('val_acc', val_acc)\n",
    "        \n",
    "        "
   ]
  },
  {
   "cell_type": "code",
   "execution_count": 36,
   "metadata": {},
   "outputs": [],
   "source": [
    "exp = Experiment(workspace=ws, name='my_mnistexp')\n",
    "run = exp.start_logging()"
   ]
  },
  {
   "cell_type": "code",
   "execution_count": 37,
   "metadata": {},
   "outputs": [
    {
     "name": "stdout",
     "output_type": "stream",
     "text": [
      "Train on 60000 samples, validate on 10000 samples\n",
      "Epoch 1/10\n",
      "60000/60000 [==============================] - 2s 26us/step - loss: 0.0628 - acc: 0.9822 - val_loss: 0.1660 - val_acc: 0.9648\n",
      "Epoch 2/10\n",
      "60000/60000 [==============================] - 2s 27us/step - loss: 0.0624 - acc: 0.9840 - val_loss: 0.1369 - val_acc: 0.9700\n",
      "Epoch 3/10\n",
      "60000/60000 [==============================] - 2s 33us/step - loss: 0.0635 - acc: 0.9834 - val_loss: 0.1459 - val_acc: 0.9707\n",
      "Epoch 4/10\n",
      "60000/60000 [==============================] - 2s 27us/step - loss: 0.0577 - acc: 0.9850 - val_loss: 0.1374 - val_acc: 0.9718\n",
      "Epoch 5/10\n",
      "60000/60000 [==============================] - 2s 28us/step - loss: 0.0497 - acc: 0.9867 - val_loss: 0.1637 - val_acc: 0.9725\n",
      "Epoch 6/10\n",
      "60000/60000 [==============================] - 2s 29us/step - loss: 0.0508 - acc: 0.9875 - val_loss: 0.1649 - val_acc: 0.9704\n",
      "Epoch 7/10\n",
      "60000/60000 [==============================] - 2s 27us/step - loss: 0.0589 - acc: 0.9860 - val_loss: 0.1824 - val_acc: 0.9682\n",
      "Epoch 8/10\n",
      "60000/60000 [==============================] - 2s 27us/step - loss: 0.0452 - acc: 0.9888 - val_loss: 0.1866 - val_acc: 0.9657\n",
      "Epoch 9/10\n",
      "60000/60000 [==============================] - 2s 26us/step - loss: 0.0474 - acc: 0.9877 - val_loss: 0.1379 - val_acc: 0.9733\n",
      "Epoch 10/10\n",
      "60000/60000 [==============================] - 2s 26us/step - loss: 0.0590 - acc: 0.9866 - val_loss: 0.1690 - val_acc: 0.9721\n"
     ]
    }
   ],
   "source": [
    "history = model.fit(\n",
    "    x_train, y_train, validation_data=(x_test, y_test), epochs=epochs, batch_size=batch_size,\n",
    "    callbacks=[ModelCheckpoint('./best_model.h5', monitor='val_loss', save_best_only=True),\n",
    "              AzureCallback(run)])"
   ]
  },
  {
   "cell_type": "code",
   "execution_count": 38,
   "metadata": {},
   "outputs": [],
   "source": [
    "run.complete()"
   ]
  },
  {
   "cell_type": "code",
   "execution_count": null,
   "metadata": {},
   "outputs": [],
   "source": []
  }
 ],
 "metadata": {
  "kernelspec": {
   "display_name": "azure-cli",
   "language": "python",
   "name": "azure-cli"
  },
  "language_info": {
   "codemirror_mode": {
    "name": "ipython",
    "version": 3
   },
   "file_extension": ".py",
   "mimetype": "text/x-python",
   "name": "python",
   "nbconvert_exporter": "python",
   "pygments_lexer": "ipython3",
   "version": "3.6.8"
  }
 },
 "nbformat": 4,
 "nbformat_minor": 2
}
